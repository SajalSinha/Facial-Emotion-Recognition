{
  "nbformat": 4,
  "nbformat_minor": 0,
  "metadata": {
    "colab": {
      "name": "FER_CNN_model.ipynb",
      "provenance": [],
      "collapsed_sections": [],
      "authorship_tag": "ABX9TyMo13Wmx9yHplFr8uNObrTU",
      "include_colab_link": true
    },
    "kernelspec": {
      "display_name": "Python 3",
      "name": "python3"
    },
    "language_info": {
      "name": "python"
    }
  },
  "cells": [
    {
      "cell_type": "markdown",
      "metadata": {
        "id": "view-in-github",
        "colab_type": "text"
      },
      "source": [
        "<a href=\"https://colab.research.google.com/github/SajalSinha/Facial-Emotion-Recognition/blob/main/FER_CNN_model.ipynb\" target=\"_parent\"><img src=\"https://colab.research.google.com/assets/colab-badge.svg\" alt=\"Open In Colab\"/></a>"
      ]
    },
    {
      "cell_type": "code",
      "metadata": {
        "id": "e1QHvuDxNfB4"
      },
      "source": [
        ""
      ],
      "execution_count": null,
      "outputs": []
    },
    {
      "cell_type": "code",
      "metadata": {
        "colab": {
          "base_uri": "https://localhost:8080/"
        },
        "id": "sySFNjt2Nr_Q",
        "outputId": "104ec29f-985a-4aa2-b40f-acb3e14486e2"
      },
      "source": [
        "from google.colab import drive\n",
        "drive.mount('/content/drive')"
      ],
      "execution_count": 1,
      "outputs": [
        {
          "output_type": "stream",
          "text": [
            "Mounted at /content/drive\n"
          ],
          "name": "stdout"
        }
      ]
    },
    {
      "cell_type": "markdown",
      "metadata": {
        "id": "tiQqw18C4sUV"
      },
      "source": [
        "# Import Necessary Libraries"
      ]
    },
    {
      "cell_type": "code",
      "metadata": {
        "id": "_5gIZxH_N7_c"
      },
      "source": [
        "%matplotlib inline\n",
        "import matplotlib.pyplot as plt\n",
        "\n",
        "import numpy as np\n",
        "from tensorflow.keras.utils import to_categorical\n",
        "from sklearn.model_selection import train_test_split\n",
        "\n",
        "from keras.models import Sequential #Initialise our neural network model as a sequential network\n",
        "from keras.layers import Conv2D #Convolution operation\n",
        "from keras.layers import BatchNormalization\n",
        "from keras.regularizers import l2\n",
        "from keras.layers import Activation#Applies activation function\n",
        "from keras.layers import Dropout#Prevents overfitting by randomly converting few outputs to zero\n",
        "from keras.layers import MaxPooling2D # Maxpooling function\n",
        "from keras.layers import Flatten # Converting 2D arrays into a 1D linear vector\n",
        "from keras.layers import Dense # Regular fully connected neural network\n",
        "from tensorflow.keras import optimizers\n",
        "from keras.callbacks import ReduceLROnPlateau, EarlyStopping, TensorBoard, ModelCheckpoint\n",
        "from sklearn.metrics import accuracy_score"
      ],
      "execution_count": 2,
      "outputs": []
    },
    {
      "cell_type": "markdown",
      "metadata": {
        "id": "EjhBy07C4yJ4"
      },
      "source": [
        "#Load Dataset"
      ]
    },
    {
      "cell_type": "code",
      "metadata": {
        "id": "0FSVEsyyN8i_"
      },
      "source": [
        "def load_data(dataset_path):\n",
        "  \n",
        "  #classes = ['Angry', 'Disgust', 'Fear', 'Happy', 'Sad', 'Surprsie', 'Neutral']  #We will be dealing with seven different types of emotions.\n",
        "\n",
        "  data = []\n",
        "  test_data = []\n",
        "  test_labels = []\n",
        "  labels =[]\n",
        "\n",
        "  with open(dataset_path, 'r') as file:\n",
        "      for line_no, line in enumerate(file.readlines()):\n",
        "          if 0 < line_no <= 35887:\n",
        "            curr_class, line, set_type = line.split(',')\n",
        "            image_data = np.asarray([int(x) for x in line.split()]).reshape(48, 48)#Creating a list out of the string then converting it into a 2-Dimensional numpy array.\n",
        "            image_data =image_data.astype(np.uint8)/255.0\n",
        "            \n",
        "            if (set_type.strip() == 'PrivateTest'):\n",
        "              \n",
        "              test_data.append(image_data)\n",
        "              test_labels.append(curr_class)\n",
        "            else:\n",
        "              data.append(image_data)\n",
        "              labels.append(curr_class)\n",
        "      \n",
        "      test_data = np.expand_dims(test_data, -1)\n",
        "      test_labels = to_categorical(test_labels, num_classes = 7)\n",
        "      data = np.expand_dims(data, -1)   \n",
        "      labels = to_categorical(labels, num_classes = 7)\n",
        "    \n",
        "      return np.array(data), np.array(labels), np.array(test_data), np.array(test_labels)"
      ],
      "execution_count": null,
      "outputs": []
    },
    {
      "cell_type": "markdown",
      "metadata": {
        "id": "tR_f3EgP41os"
      },
      "source": [
        "#Splitting of model"
      ]
    },
    {
      "cell_type": "code",
      "metadata": {
        "colab": {
          "base_uri": "https://localhost:8080/"
        },
        "id": "-Fd4Lo5RPK7q",
        "outputId": "8df59a35-9473-4c56-c878-4ac3b1f00b2b"
      },
      "source": [
        "dataset_path = \"/content/drive/MyDrive/Capstone Project 5/fer2013.csv\" \n",
        "train_data, train_labels, test_data, test_labels = load_data(dataset_path)\n",
        "#train_data, test_data, train_labels, test_labels = train_test_split(data, labels, test_size = test_size,random_state = seed)\n",
        "\n",
        "print(\"Number of images in Training set:\", len(train_data))\n",
        "print(\"Number of images in Test set:\", len(test_data))"
      ],
      "execution_count": null,
      "outputs": [
        {
          "output_type": "stream",
          "text": [
            "Number of images in Training set: 32298\n",
            "Number of images in Test set: 3589\n"
          ],
          "name": "stdout"
        }
      ]
    },
    {
      "cell_type": "markdown",
      "metadata": {
        "id": "J7xOmTok446X"
      },
      "source": [
        "#Model Training"
      ]
    },
    {
      "cell_type": "code",
      "metadata": {
        "colab": {
          "base_uri": "https://localhost:8080/"
        },
        "id": "C_Mo-8wpPYyN",
        "outputId": "6d5a234f-4865-4693-85e4-82348606eda9"
      },
      "source": [
        "#######HYPERPARAMATERS###########\n",
        "epochs = 100\n",
        "batch_size = 64\n",
        "learning_rate = 0.001\n",
        "#################################\n",
        "\n",
        "model = Sequential()\n",
        "    \n",
        "model.add(Conv2D(64, (3, 3), activation='relu', input_shape=(48, 48, 1), kernel_regularizer=l2(0.01)))\n",
        "model.add(Conv2D(64, (3, 3), padding='same',activation='relu'))\n",
        "model.add(BatchNormalization())\n",
        "model.add(MaxPooling2D(pool_size=(2,2), strides=(2, 2)))\n",
        "model.add(Dropout(0.5))\n",
        "    \n",
        "model.add(Conv2D(128, (3, 3), padding='same', activation='relu'))\n",
        "model.add(BatchNormalization())\n",
        "model.add(Conv2D(128, (3, 3), padding='same', activation='relu'))\n",
        "model.add(BatchNormalization())\n",
        "model.add(Conv2D(128, (3, 3), padding='same', activation='relu'))\n",
        "model.add(BatchNormalization())\n",
        "model.add(MaxPooling2D(pool_size=(2,2)))\n",
        "model.add(Dropout(0.5))\n",
        "    \n",
        "model.add(Conv2D(256, (3, 3), padding='same', activation='relu'))\n",
        "model.add(BatchNormalization())\n",
        "model.add(Conv2D(256, (3, 3), padding='same', activation='relu'))\n",
        "model.add(BatchNormalization())\n",
        "model.add(Conv2D(256, (3, 3), padding='same', activation='relu'))\n",
        "model.add(BatchNormalization())\n",
        "model.add(MaxPooling2D(pool_size=(2,2)))\n",
        "model.add(Dropout(0.5))\n",
        "    \n",
        "model.add(Conv2D(512, (3, 3), padding='same', activation='relu'))\n",
        "model.add(BatchNormalization())\n",
        "model.add(Conv2D(512, (3, 3), padding='same', activation='relu'))\n",
        "model.add(BatchNormalization())\n",
        "model.add(Conv2D(512, (3, 3), padding='same', activation='relu'))\n",
        "model.add(BatchNormalization())\n",
        "model.add(MaxPooling2D(pool_size=(2,2)))\n",
        "model.add(Dropout(0.5))\n",
        "    \n",
        "model.add(Flatten())\n",
        "model.add(Dense(512, activation='relu'))\n",
        "model.add(Dropout(0.5))\n",
        "model.add(Dense(256, activation='relu'))\n",
        "model.add(Dropout(0.5))\n",
        "model.add(Dense(128, activation='relu'))\n",
        "model.add(Dropout(0.5))\n",
        "model.add(Dense(64, activation='relu'))\n",
        "model.add(Dropout(0.5))\n",
        "model.add(Dense(7, activation='softmax'))\n",
        "adam = optimizers.Adam(lr = learning_rate)\n",
        "model.compile(optimizer = adam, loss = 'categorical_crossentropy', metrics = ['accuracy'])\n",
        "    \n",
        "print(model.summary())\n",
        "\n",
        "lr_reducer = ReduceLROnPlateau(monitor='val_loss', factor=0.9, patience=3)\n",
        "early_stopper = EarlyStopping(monitor='val_acc', min_delta=0, patience=6, mode='auto')\n",
        "# checkpointer = ModelCheckpoint('/content/gdrive/My Drive/Colab Notebooks/Emotion Recognition/Model/weights.hd5', monitor='val_loss', verbose=1, save_best_only=True)\n",
        "\n",
        "model.fit(\n",
        "          train_data,\n",
        "          train_labels,\n",
        "          epochs = epochs,\n",
        "          batch_size = batch_size,\n",
        "          validation_split = 0.2,\n",
        "          shuffle = True\n",
        "          )"
      ],
      "execution_count": null,
      "outputs": [
        {
          "output_type": "stream",
          "text": [
            "/usr/local/lib/python3.7/dist-packages/keras/optimizer_v2/optimizer_v2.py:356: UserWarning: The `lr` argument is deprecated, use `learning_rate` instead.\n",
            "  \"The `lr` argument is deprecated, use `learning_rate` instead.\")\n"
          ],
          "name": "stderr"
        },
        {
          "output_type": "stream",
          "text": [
            "Model: \"sequential\"\n",
            "_________________________________________________________________\n",
            "Layer (type)                 Output Shape              Param #   \n",
            "=================================================================\n",
            "conv2d (Conv2D)              (None, 46, 46, 64)        640       \n",
            "_________________________________________________________________\n",
            "conv2d_1 (Conv2D)            (None, 46, 46, 64)        36928     \n",
            "_________________________________________________________________\n",
            "batch_normalization (BatchNo (None, 46, 46, 64)        256       \n",
            "_________________________________________________________________\n",
            "max_pooling2d (MaxPooling2D) (None, 23, 23, 64)        0         \n",
            "_________________________________________________________________\n",
            "dropout (Dropout)            (None, 23, 23, 64)        0         \n",
            "_________________________________________________________________\n",
            "conv2d_2 (Conv2D)            (None, 23, 23, 128)       73856     \n",
            "_________________________________________________________________\n",
            "batch_normalization_1 (Batch (None, 23, 23, 128)       512       \n",
            "_________________________________________________________________\n",
            "conv2d_3 (Conv2D)            (None, 23, 23, 128)       147584    \n",
            "_________________________________________________________________\n",
            "batch_normalization_2 (Batch (None, 23, 23, 128)       512       \n",
            "_________________________________________________________________\n",
            "conv2d_4 (Conv2D)            (None, 23, 23, 128)       147584    \n",
            "_________________________________________________________________\n",
            "batch_normalization_3 (Batch (None, 23, 23, 128)       512       \n",
            "_________________________________________________________________\n",
            "max_pooling2d_1 (MaxPooling2 (None, 11, 11, 128)       0         \n",
            "_________________________________________________________________\n",
            "dropout_1 (Dropout)          (None, 11, 11, 128)       0         \n",
            "_________________________________________________________________\n",
            "conv2d_5 (Conv2D)            (None, 11, 11, 256)       295168    \n",
            "_________________________________________________________________\n",
            "batch_normalization_4 (Batch (None, 11, 11, 256)       1024      \n",
            "_________________________________________________________________\n",
            "conv2d_6 (Conv2D)            (None, 11, 11, 256)       590080    \n",
            "_________________________________________________________________\n",
            "batch_normalization_5 (Batch (None, 11, 11, 256)       1024      \n",
            "_________________________________________________________________\n",
            "conv2d_7 (Conv2D)            (None, 11, 11, 256)       590080    \n",
            "_________________________________________________________________\n",
            "batch_normalization_6 (Batch (None, 11, 11, 256)       1024      \n",
            "_________________________________________________________________\n",
            "max_pooling2d_2 (MaxPooling2 (None, 5, 5, 256)         0         \n",
            "_________________________________________________________________\n",
            "dropout_2 (Dropout)          (None, 5, 5, 256)         0         \n",
            "_________________________________________________________________\n",
            "conv2d_8 (Conv2D)            (None, 5, 5, 512)         1180160   \n",
            "_________________________________________________________________\n",
            "batch_normalization_7 (Batch (None, 5, 5, 512)         2048      \n",
            "_________________________________________________________________\n",
            "conv2d_9 (Conv2D)            (None, 5, 5, 512)         2359808   \n",
            "_________________________________________________________________\n",
            "batch_normalization_8 (Batch (None, 5, 5, 512)         2048      \n",
            "_________________________________________________________________\n",
            "conv2d_10 (Conv2D)           (None, 5, 5, 512)         2359808   \n",
            "_________________________________________________________________\n",
            "batch_normalization_9 (Batch (None, 5, 5, 512)         2048      \n",
            "_________________________________________________________________\n",
            "max_pooling2d_3 (MaxPooling2 (None, 2, 2, 512)         0         \n",
            "_________________________________________________________________\n",
            "dropout_3 (Dropout)          (None, 2, 2, 512)         0         \n",
            "_________________________________________________________________\n",
            "flatten (Flatten)            (None, 2048)              0         \n",
            "_________________________________________________________________\n",
            "dense (Dense)                (None, 512)               1049088   \n",
            "_________________________________________________________________\n",
            "dropout_4 (Dropout)          (None, 512)               0         \n",
            "_________________________________________________________________\n",
            "dense_1 (Dense)              (None, 256)               131328    \n",
            "_________________________________________________________________\n",
            "dropout_5 (Dropout)          (None, 256)               0         \n",
            "_________________________________________________________________\n",
            "dense_2 (Dense)              (None, 128)               32896     \n",
            "_________________________________________________________________\n",
            "dropout_6 (Dropout)          (None, 128)               0         \n",
            "_________________________________________________________________\n",
            "dense_3 (Dense)              (None, 64)                8256      \n",
            "_________________________________________________________________\n",
            "dropout_7 (Dropout)          (None, 64)                0         \n",
            "_________________________________________________________________\n",
            "dense_4 (Dense)              (None, 7)                 455       \n",
            "=================================================================\n",
            "Total params: 9,014,727\n",
            "Trainable params: 9,009,223\n",
            "Non-trainable params: 5,504\n",
            "_________________________________________________________________\n",
            "None\n",
            "Epoch 1/100\n",
            "404/404 [==============================] - 60s 67ms/step - loss: 2.0971 - accuracy: 0.1995 - val_loss: 1.8479 - val_accuracy: 0.2489\n",
            "Epoch 2/100\n",
            "404/404 [==============================] - 25s 63ms/step - loss: 1.8667 - accuracy: 0.2361 - val_loss: 1.8427 - val_accuracy: 0.2489\n",
            "Epoch 3/100\n",
            "404/404 [==============================] - 26s 64ms/step - loss: 1.8437 - accuracy: 0.2472 - val_loss: 1.8237 - val_accuracy: 0.2489\n",
            "Epoch 4/100\n",
            "404/404 [==============================] - 26s 64ms/step - loss: 1.8289 - accuracy: 0.2499 - val_loss: 1.8198 - val_accuracy: 0.2489\n",
            "Epoch 5/100\n",
            "404/404 [==============================] - 26s 65ms/step - loss: 1.8213 - accuracy: 0.2509 - val_loss: 1.8081 - val_accuracy: 0.2489\n",
            "Epoch 6/100\n",
            "404/404 [==============================] - 26s 66ms/step - loss: 1.8151 - accuracy: 0.2503 - val_loss: 1.8128 - val_accuracy: 0.2489\n",
            "Epoch 7/100\n",
            "404/404 [==============================] - 26s 65ms/step - loss: 1.8100 - accuracy: 0.2508 - val_loss: 1.8119 - val_accuracy: 0.2489\n",
            "Epoch 8/100\n",
            "404/404 [==============================] - 26s 65ms/step - loss: 1.8048 - accuracy: 0.2517 - val_loss: 1.8501 - val_accuracy: 0.2489\n",
            "Epoch 9/100\n",
            "404/404 [==============================] - 26s 65ms/step - loss: 1.7911 - accuracy: 0.2574 - val_loss: 1.8193 - val_accuracy: 0.2690\n",
            "Epoch 10/100\n",
            "404/404 [==============================] - 26s 65ms/step - loss: 1.7563 - accuracy: 0.2801 - val_loss: 1.8629 - val_accuracy: 0.2489\n",
            "Epoch 11/100\n",
            "404/404 [==============================] - 26s 65ms/step - loss: 1.7221 - accuracy: 0.2992 - val_loss: 1.6620 - val_accuracy: 0.3307\n",
            "Epoch 12/100\n",
            "404/404 [==============================] - 27s 67ms/step - loss: 1.6766 - accuracy: 0.3105 - val_loss: 1.6304 - val_accuracy: 0.3220\n",
            "Epoch 13/100\n",
            "404/404 [==============================] - 26s 65ms/step - loss: 1.6195 - accuracy: 0.3412 - val_loss: 1.5020 - val_accuracy: 0.3892\n",
            "Epoch 14/100\n",
            "404/404 [==============================] - 26s 65ms/step - loss: 1.5552 - accuracy: 0.3886 - val_loss: 1.5609 - val_accuracy: 0.3749\n",
            "Epoch 15/100\n",
            "404/404 [==============================] - 26s 65ms/step - loss: 1.5127 - accuracy: 0.4000 - val_loss: 1.4741 - val_accuracy: 0.3998\n",
            "Epoch 16/100\n",
            "404/404 [==============================] - 26s 65ms/step - loss: 1.4761 - accuracy: 0.4131 - val_loss: 1.4165 - val_accuracy: 0.4333\n",
            "Epoch 17/100\n",
            "404/404 [==============================] - 26s 65ms/step - loss: 1.4439 - accuracy: 0.4229 - val_loss: 1.4116 - val_accuracy: 0.4209\n",
            "Epoch 18/100\n",
            "404/404 [==============================] - 26s 65ms/step - loss: 1.4288 - accuracy: 0.4285 - val_loss: 1.3678 - val_accuracy: 0.4375\n",
            "Epoch 19/100\n",
            "404/404 [==============================] - 26s 65ms/step - loss: 1.4044 - accuracy: 0.4379 - val_loss: 1.4801 - val_accuracy: 0.4043\n",
            "Epoch 20/100\n",
            "404/404 [==============================] - 26s 65ms/step - loss: 1.3961 - accuracy: 0.4383 - val_loss: 1.3869 - val_accuracy: 0.4347\n",
            "Epoch 21/100\n",
            "404/404 [==============================] - 26s 65ms/step - loss: 1.3712 - accuracy: 0.4442 - val_loss: 1.3564 - val_accuracy: 0.4382\n",
            "Epoch 22/100\n",
            "404/404 [==============================] - 26s 65ms/step - loss: 1.3633 - accuracy: 0.4529 - val_loss: 1.4090 - val_accuracy: 0.4173\n",
            "Epoch 23/100\n",
            "404/404 [==============================] - 26s 65ms/step - loss: 1.3371 - accuracy: 0.4605 - val_loss: 1.3045 - val_accuracy: 0.4766\n",
            "Epoch 24/100\n",
            "404/404 [==============================] - 26s 65ms/step - loss: 1.3307 - accuracy: 0.4683 - val_loss: 1.3125 - val_accuracy: 0.4896\n",
            "Epoch 25/100\n",
            "404/404 [==============================] - 26s 65ms/step - loss: 1.3052 - accuracy: 0.4844 - val_loss: 1.3082 - val_accuracy: 0.4913\n",
            "Epoch 26/100\n",
            "404/404 [==============================] - 26s 65ms/step - loss: 1.2862 - accuracy: 0.5004 - val_loss: 1.2927 - val_accuracy: 0.5122\n",
            "Epoch 27/100\n",
            "404/404 [==============================] - 26s 65ms/step - loss: 1.2554 - accuracy: 0.5125 - val_loss: 1.2445 - val_accuracy: 0.5285\n",
            "Epoch 28/100\n",
            "404/404 [==============================] - 26s 65ms/step - loss: 1.2423 - accuracy: 0.5206 - val_loss: 1.2157 - val_accuracy: 0.5368\n",
            "Epoch 29/100\n",
            "404/404 [==============================] - 26s 65ms/step - loss: 1.2125 - accuracy: 0.5355 - val_loss: 1.2560 - val_accuracy: 0.5412\n",
            "Epoch 30/100\n",
            "404/404 [==============================] - 26s 65ms/step - loss: 1.2002 - accuracy: 0.5475 - val_loss: 1.2500 - val_accuracy: 0.5393\n",
            "Epoch 31/100\n",
            "404/404 [==============================] - 26s 65ms/step - loss: 1.1777 - accuracy: 0.5545 - val_loss: 1.2906 - val_accuracy: 0.5251\n",
            "Epoch 32/100\n",
            "404/404 [==============================] - 26s 65ms/step - loss: 1.1636 - accuracy: 0.5606 - val_loss: 1.3886 - val_accuracy: 0.4949\n",
            "Epoch 33/100\n",
            "404/404 [==============================] - 26s 65ms/step - loss: 1.1453 - accuracy: 0.5711 - val_loss: 1.1739 - val_accuracy: 0.5807\n",
            "Epoch 34/100\n",
            "404/404 [==============================] - 26s 65ms/step - loss: 1.1302 - accuracy: 0.5776 - val_loss: 1.1850 - val_accuracy: 0.5731\n",
            "Epoch 35/100\n",
            "404/404 [==============================] - 26s 65ms/step - loss: 1.1055 - accuracy: 0.5865 - val_loss: 1.1888 - val_accuracy: 0.5608\n",
            "Epoch 36/100\n",
            "404/404 [==============================] - 26s 65ms/step - loss: 1.0812 - accuracy: 0.5981 - val_loss: 1.2243 - val_accuracy: 0.5387\n",
            "Epoch 37/100\n",
            "404/404 [==============================] - 26s 65ms/step - loss: 1.0758 - accuracy: 0.6010 - val_loss: 1.3308 - val_accuracy: 0.4989\n",
            "Epoch 38/100\n",
            "404/404 [==============================] - 26s 65ms/step - loss: 1.0526 - accuracy: 0.6128 - val_loss: 1.2013 - val_accuracy: 0.5728\n",
            "Epoch 39/100\n",
            "404/404 [==============================] - 26s 65ms/step - loss: 1.0295 - accuracy: 0.6194 - val_loss: 1.2390 - val_accuracy: 0.5534\n",
            "Epoch 40/100\n",
            "404/404 [==============================] - 26s 65ms/step - loss: 1.0178 - accuracy: 0.6253 - val_loss: 1.1964 - val_accuracy: 0.5718\n",
            "Epoch 41/100\n",
            "404/404 [==============================] - 26s 65ms/step - loss: 1.0016 - accuracy: 0.6336 - val_loss: 1.1791 - val_accuracy: 0.5827\n",
            "Epoch 42/100\n",
            "404/404 [==============================] - 26s 64ms/step - loss: 0.9912 - accuracy: 0.6391 - val_loss: 1.2153 - val_accuracy: 0.5681\n",
            "Epoch 43/100\n",
            "404/404 [==============================] - 26s 64ms/step - loss: 0.9676 - accuracy: 0.6459 - val_loss: 1.1751 - val_accuracy: 0.5749\n",
            "Epoch 44/100\n",
            "404/404 [==============================] - 26s 65ms/step - loss: 0.9464 - accuracy: 0.6572 - val_loss: 1.1890 - val_accuracy: 0.5833\n",
            "Epoch 45/100\n",
            "404/404 [==============================] - 26s 65ms/step - loss: 0.9310 - accuracy: 0.6662 - val_loss: 1.1845 - val_accuracy: 0.5937\n",
            "Epoch 46/100\n",
            "404/404 [==============================] - 26s 65ms/step - loss: 0.9176 - accuracy: 0.6713 - val_loss: 1.1995 - val_accuracy: 0.5967\n",
            "Epoch 47/100\n",
            "404/404 [==============================] - 26s 65ms/step - loss: 0.9095 - accuracy: 0.6745 - val_loss: 1.1975 - val_accuracy: 0.5950\n",
            "Epoch 48/100\n",
            "404/404 [==============================] - 26s 64ms/step - loss: 0.8913 - accuracy: 0.6835 - val_loss: 1.1955 - val_accuracy: 0.5947\n",
            "Epoch 49/100\n",
            "404/404 [==============================] - 26s 65ms/step - loss: 0.8753 - accuracy: 0.6896 - val_loss: 1.2480 - val_accuracy: 0.5909\n",
            "Epoch 50/100\n",
            "404/404 [==============================] - 26s 64ms/step - loss: 0.8556 - accuracy: 0.6953 - val_loss: 1.2269 - val_accuracy: 0.6080\n",
            "Epoch 51/100\n",
            "404/404 [==============================] - 26s 65ms/step - loss: 0.8542 - accuracy: 0.7015 - val_loss: 1.2607 - val_accuracy: 0.5613\n",
            "Epoch 52/100\n",
            "404/404 [==============================] - 27s 66ms/step - loss: 0.8261 - accuracy: 0.7069 - val_loss: 1.2236 - val_accuracy: 0.6050\n",
            "Epoch 53/100\n",
            "404/404 [==============================] - 26s 64ms/step - loss: 0.8399 - accuracy: 0.7042 - val_loss: 1.2284 - val_accuracy: 0.6152\n",
            "Epoch 54/100\n",
            "404/404 [==============================] - 26s 65ms/step - loss: 0.8083 - accuracy: 0.7185 - val_loss: 1.2073 - val_accuracy: 0.6023\n",
            "Epoch 55/100\n",
            "404/404 [==============================] - 26s 65ms/step - loss: 0.8057 - accuracy: 0.7242 - val_loss: 1.2020 - val_accuracy: 0.6195\n",
            "Epoch 56/100\n",
            "404/404 [==============================] - 26s 65ms/step - loss: 0.7826 - accuracy: 0.7296 - val_loss: 1.2179 - val_accuracy: 0.6125\n",
            "Epoch 57/100\n",
            "404/404 [==============================] - 26s 65ms/step - loss: 0.7759 - accuracy: 0.7334 - val_loss: 1.2039 - val_accuracy: 0.6155\n",
            "Epoch 58/100\n",
            "404/404 [==============================] - 26s 65ms/step - loss: 0.7535 - accuracy: 0.7413 - val_loss: 1.2277 - val_accuracy: 0.6111\n",
            "Epoch 59/100\n",
            "404/404 [==============================] - 26s 65ms/step - loss: 0.7456 - accuracy: 0.7437 - val_loss: 1.2530 - val_accuracy: 0.6164\n",
            "Epoch 60/100\n",
            "404/404 [==============================] - 26s 65ms/step - loss: 0.7306 - accuracy: 0.7488 - val_loss: 1.3147 - val_accuracy: 0.6150\n",
            "Epoch 61/100\n",
            "404/404 [==============================] - 26s 65ms/step - loss: 0.7242 - accuracy: 0.7512 - val_loss: 1.4494 - val_accuracy: 0.6098\n",
            "Epoch 62/100\n",
            "404/404 [==============================] - 26s 65ms/step - loss: 0.7041 - accuracy: 0.7587 - val_loss: 1.4042 - val_accuracy: 0.5878\n",
            "Epoch 63/100\n",
            "404/404 [==============================] - 26s 65ms/step - loss: 0.6961 - accuracy: 0.7637 - val_loss: 1.2628 - val_accuracy: 0.6198\n",
            "Epoch 64/100\n",
            "404/404 [==============================] - 26s 65ms/step - loss: 0.6931 - accuracy: 0.7663 - val_loss: 1.3161 - val_accuracy: 0.6067\n",
            "Epoch 65/100\n",
            "404/404 [==============================] - 26s 65ms/step - loss: 0.6649 - accuracy: 0.7746 - val_loss: 1.3340 - val_accuracy: 0.6153\n",
            "Epoch 66/100\n",
            "404/404 [==============================] - 26s 65ms/step - loss: 0.6533 - accuracy: 0.7816 - val_loss: 1.3310 - val_accuracy: 0.6059\n",
            "Epoch 67/100\n",
            "404/404 [==============================] - 26s 65ms/step - loss: 0.6435 - accuracy: 0.7845 - val_loss: 1.4291 - val_accuracy: 0.5960\n",
            "Epoch 68/100\n",
            "404/404 [==============================] - 26s 65ms/step - loss: 0.6474 - accuracy: 0.7839 - val_loss: 1.3673 - val_accuracy: 0.6206\n",
            "Epoch 69/100\n",
            "404/404 [==============================] - 26s 65ms/step - loss: 0.6230 - accuracy: 0.7909 - val_loss: 1.4251 - val_accuracy: 0.6195\n",
            "Epoch 70/100\n",
            "404/404 [==============================] - 26s 65ms/step - loss: 0.6207 - accuracy: 0.7919 - val_loss: 1.5061 - val_accuracy: 0.6173\n",
            "Epoch 71/100\n",
            "404/404 [==============================] - 26s 65ms/step - loss: 0.6052 - accuracy: 0.7999 - val_loss: 1.3527 - val_accuracy: 0.6220\n",
            "Epoch 72/100\n",
            "404/404 [==============================] - 26s 65ms/step - loss: 0.5941 - accuracy: 0.8051 - val_loss: 1.3912 - val_accuracy: 0.6228\n",
            "Epoch 73/100\n",
            "404/404 [==============================] - 26s 65ms/step - loss: 0.5863 - accuracy: 0.8066 - val_loss: 1.5909 - val_accuracy: 0.5989\n",
            "Epoch 74/100\n",
            "404/404 [==============================] - 26s 65ms/step - loss: 0.5757 - accuracy: 0.8139 - val_loss: 1.4856 - val_accuracy: 0.5975\n",
            "Epoch 75/100\n",
            "404/404 [==============================] - 27s 67ms/step - loss: 0.5822 - accuracy: 0.8114 - val_loss: 1.4642 - val_accuracy: 0.6139\n",
            "Epoch 76/100\n",
            "404/404 [==============================] - 26s 65ms/step - loss: 0.5632 - accuracy: 0.8164 - val_loss: 1.5937 - val_accuracy: 0.6245\n",
            "Epoch 77/100\n",
            "404/404 [==============================] - 26s 65ms/step - loss: 0.5543 - accuracy: 0.8208 - val_loss: 1.4359 - val_accuracy: 0.6266\n",
            "Epoch 78/100\n",
            "404/404 [==============================] - 26s 65ms/step - loss: 0.5444 - accuracy: 0.8231 - val_loss: 1.4904 - val_accuracy: 0.6280\n",
            "Epoch 79/100\n",
            "404/404 [==============================] - 26s 65ms/step - loss: 0.5468 - accuracy: 0.8252 - val_loss: 1.4211 - val_accuracy: 0.6204\n",
            "Epoch 80/100\n",
            "404/404 [==============================] - 26s 65ms/step - loss: 0.5305 - accuracy: 0.8287 - val_loss: 1.5320 - val_accuracy: 0.6223\n",
            "Epoch 81/100\n",
            "404/404 [==============================] - 26s 65ms/step - loss: 0.5216 - accuracy: 0.8355 - val_loss: 1.6691 - val_accuracy: 0.6238\n",
            "Epoch 82/100\n",
            "404/404 [==============================] - 26s 65ms/step - loss: 0.5165 - accuracy: 0.8325 - val_loss: 1.6440 - val_accuracy: 0.6183\n",
            "Epoch 83/100\n",
            "404/404 [==============================] - 26s 65ms/step - loss: 0.5055 - accuracy: 0.8401 - val_loss: 1.4853 - val_accuracy: 0.6175\n",
            "Epoch 84/100\n",
            "404/404 [==============================] - 26s 65ms/step - loss: 0.5114 - accuracy: 0.8383 - val_loss: 1.7103 - val_accuracy: 0.6240\n",
            "Epoch 85/100\n",
            "404/404 [==============================] - 26s 65ms/step - loss: 0.4922 - accuracy: 0.8426 - val_loss: 1.5572 - val_accuracy: 0.6276\n",
            "Epoch 86/100\n",
            "404/404 [==============================] - 26s 65ms/step - loss: 0.4869 - accuracy: 0.8477 - val_loss: 1.5916 - val_accuracy: 0.6300\n",
            "Epoch 87/100\n",
            "404/404 [==============================] - 26s 65ms/step - loss: 0.4976 - accuracy: 0.8460 - val_loss: 1.4866 - val_accuracy: 0.6311\n",
            "Epoch 88/100\n",
            "404/404 [==============================] - 26s 65ms/step - loss: 0.4552 - accuracy: 0.8582 - val_loss: 1.5428 - val_accuracy: 0.6272\n",
            "Epoch 89/100\n",
            "404/404 [==============================] - 26s 65ms/step - loss: 0.4643 - accuracy: 0.8560 - val_loss: 1.7451 - val_accuracy: 0.6283\n",
            "Epoch 90/100\n",
            "404/404 [==============================] - 26s 65ms/step - loss: 0.4583 - accuracy: 0.8575 - val_loss: 1.5335 - val_accuracy: 0.6286\n",
            "Epoch 91/100\n",
            "404/404 [==============================] - 26s 65ms/step - loss: 0.4409 - accuracy: 0.8638 - val_loss: 1.7091 - val_accuracy: 0.6297\n",
            "Epoch 92/100\n",
            "404/404 [==============================] - 26s 65ms/step - loss: 0.4510 - accuracy: 0.8622 - val_loss: 1.4225 - val_accuracy: 0.6251\n",
            "Epoch 93/100\n",
            "404/404 [==============================] - 26s 65ms/step - loss: 0.4348 - accuracy: 0.8681 - val_loss: 1.5765 - val_accuracy: 0.6060\n",
            "Epoch 94/100\n",
            "404/404 [==============================] - 26s 65ms/step - loss: 0.4305 - accuracy: 0.8700 - val_loss: 1.6999 - val_accuracy: 0.6186\n",
            "Epoch 95/100\n",
            "404/404 [==============================] - 26s 65ms/step - loss: 0.4268 - accuracy: 0.8726 - val_loss: 1.6230 - val_accuracy: 0.6265\n",
            "Epoch 96/100\n",
            "404/404 [==============================] - 26s 65ms/step - loss: 0.4192 - accuracy: 0.8726 - val_loss: 1.5755 - val_accuracy: 0.6328\n",
            "Epoch 97/100\n",
            "404/404 [==============================] - 26s 65ms/step - loss: 0.4109 - accuracy: 0.8748 - val_loss: 1.6059 - val_accuracy: 0.6183\n",
            "Epoch 98/100\n",
            "404/404 [==============================] - 26s 65ms/step - loss: 0.4093 - accuracy: 0.8806 - val_loss: 1.6599 - val_accuracy: 0.6333\n",
            "Epoch 99/100\n",
            "404/404 [==============================] - 26s 65ms/step - loss: 0.4068 - accuracy: 0.8757 - val_loss: 1.6583 - val_accuracy: 0.6285\n",
            "Epoch 100/100\n",
            "404/404 [==============================] - 26s 65ms/step - loss: 0.3940 - accuracy: 0.8802 - val_loss: 2.0793 - val_accuracy: 0.6156\n"
          ],
          "name": "stdout"
        },
        {
          "output_type": "execute_result",
          "data": {
            "text/plain": [
              "<keras.callbacks.History at 0x7fd534435c90>"
            ]
          },
          "metadata": {},
          "execution_count": 5
        }
      ]
    },
    {
      "cell_type": "code",
      "metadata": {
        "id": "dRorj5eLPmAm"
      },
      "source": [
        "# predicted_test_labels = np.argmax(model.predict(test_data), axis=1)\n",
        "# test_labels = np.argmax(test_labels, axis=0)\n",
        "# print (\"Accuracy score = \", accuracy_score(test_labels, predicted_test_labels))"
      ],
      "execution_count": null,
      "outputs": []
    },
    {
      "cell_type": "markdown",
      "metadata": {
        "id": "HPUVKvvf4968"
      },
      "source": [
        "# Preparation for emotion recognition using photo"
      ]
    },
    {
      "cell_type": "code",
      "metadata": {
        "id": "LHB19ddXsbCl"
      },
      "source": [
        "def emotion_analysis(emotions):\n",
        "    objects = ('angry', 'disgust', 'fear', 'happy', 'sad', 'surprise', 'neutral')\n",
        "    y_pos = np.arange(len(objects))\n",
        "    \n",
        "    plt.bar(y_pos, emotions, align='center', alpha=0.5)\n",
        "    plt.xticks(y_pos, objects)\n",
        "    plt.ylabel('percentage')\n",
        "    plt.title('emotion')\n",
        "    \n",
        "    plt.show()\n"
      ],
      "execution_count": 3,
      "outputs": []
    },
    {
      "cell_type": "markdown",
      "metadata": {
        "id": "2umflNRc5Ema"
      },
      "source": [
        "# Saving of model"
      ]
    },
    {
      "cell_type": "code",
      "metadata": {
        "id": "AeK3xaxGtQ2e",
        "colab": {
          "base_uri": "https://localhost:8080/"
        },
        "outputId": "d1acbf74-7b02-4338-c047-275a0b19b318"
      },
      "source": [
        "from keras.models import model_from_json\n",
        "model_json = model.to_json()\n",
        "with open(\"/content/drive/MyDrive/Capstone Project 5/model.json\", \"w\") as json_file:\n",
        "    json_file.write(model_json)\n",
        "# serialize weights to HDF5\n",
        "model.save_weights(\"/content/drive/MyDrive/Capstone Project 5/model.h5\")\n",
        "print(\"Saved model to disk\")"
      ],
      "execution_count": null,
      "outputs": [
        {
          "output_type": "stream",
          "text": [
            "Saved model to disk\n"
          ],
          "name": "stdout"
        }
      ]
    },
    {
      "cell_type": "markdown",
      "metadata": {
        "id": "DtYSWAAwGA3N"
      },
      "source": [
        "#To take photo"
      ]
    },
    {
      "cell_type": "code",
      "metadata": {
        "id": "WB-gwfZuS65H"
      },
      "source": [
        "from keras.models import model_from_json\n",
        "import numpy as np\n",
        "import cv2\n",
        "\n",
        "def load_model(path):\n",
        "\n",
        "\tjson_file = open(path + 'model.json', 'r')\n",
        "\tloaded_model_json = json_file.read()\n",
        "\tjson_file.close()\n",
        "\t\n",
        "\tmodel = model_from_json(loaded_model_json)\n",
        "\tmodel.load_weights(path + \"model.h5\")\n",
        "\tprint(\"Loaded model from disk\")\n",
        "\treturn model"
      ],
      "execution_count": 4,
      "outputs": []
    },
    {
      "cell_type": "code",
      "metadata": {
        "colab": {
          "base_uri": "https://localhost:8080/"
        },
        "id": "aG0Hh91glmFQ",
        "outputId": "32519f92-acb4-4bb0-b9c3-8b09ac3be0cf"
      },
      "source": [
        "#model loading\n",
        "path = \"/content/drive/MyDrive/Capstone Project 5/\"\n",
        "model = load_model(path)"
      ],
      "execution_count": 5,
      "outputs": [
        {
          "output_type": "stream",
          "text": [
            "Loaded model from disk\n"
          ],
          "name": "stdout"
        }
      ]
    },
    {
      "cell_type": "code",
      "metadata": {
        "id": "be8GuB35qmnQ"
      },
      "source": [
        "#CODE for Capturing an image on Colab from here: https://colab.research.google.com/notebook#fileId=1OnUy6eFE7XhdfGfAHDCqQxpwueTOj_NO\n",
        "\n",
        "from IPython.display import display, Javascript\n",
        "from google.colab.output import eval_js\n",
        "from base64 import b64decode\n",
        "\n",
        "def take_photo(filename='photo.jpg', quality=0.8):\n",
        "  js = Javascript('''\n",
        "    async function takePhoto(quality) {\n",
        "      const div = document.createElement('div');\n",
        "      const capture = document.createElement('button');\n",
        "      capture.textContent = 'Capture';\n",
        "      div.appendChild(capture);\n",
        "\n",
        "      const video = document.createElement('video');\n",
        "      video.style.display = 'block';\n",
        "      const stream = await navigator.mediaDevices.getUserMedia({video: true});\n",
        "\n",
        "      document.body.appendChild(div);\n",
        "      div.appendChild(video);\n",
        "      video.srcObject = stream;\n",
        "      await video.play();\n",
        "\n",
        "      // Resize the output to fit the video element.\n",
        "      google.colab.output.setIframeHeight(document.documentElement.scrollHeight, true);\n",
        "\n",
        "      // Wait for Capture to be clicked.\n",
        "      await new Promise((resolve) => capture.onclick = resolve);\n",
        "\n",
        "      const canvas = document.createElement('canvas');\n",
        "      canvas.width = video.videoWidth;\n",
        "      canvas.height = video.videoHeight;\n",
        "      canvas.getContext('2d').drawImage(video, 0, 0);\n",
        "      stream.getVideoTracks()[0].stop();\n",
        "      div.remove();\n",
        "      return canvas.toDataURL('image/jpeg', quality);\n",
        "    }\n",
        "    ''')\n",
        "  display(js)\n",
        "  data = eval_js('takePhoto({})'.format(quality))\n",
        "  binary = b64decode(data.split(',')[1])\n",
        "  with open(filename, 'wb') as f:\n",
        "    f.write(binary)\n",
        "  return filename"
      ],
      "execution_count": 6,
      "outputs": []
    },
    {
      "cell_type": "code",
      "metadata": {
        "colab": {
          "base_uri": "https://localhost:8080/",
          "height": 37
        },
        "id": "_CO8t6ssrbeN",
        "outputId": "73e485d9-9c05-4923-f7cf-b5bf22f74d78"
      },
      "source": [
        "take_photo()"
      ],
      "execution_count": null,
      "outputs": [
        {
          "output_type": "display_data",
          "data": {
            "application/javascript": [
              "\n",
              "    async function takePhoto(quality) {\n",
              "      const div = document.createElement('div');\n",
              "      const capture = document.createElement('button');\n",
              "      capture.textContent = 'Capture';\n",
              "      div.appendChild(capture);\n",
              "\n",
              "      const video = document.createElement('video');\n",
              "      video.style.display = 'block';\n",
              "      const stream = await navigator.mediaDevices.getUserMedia({video: true});\n",
              "\n",
              "      document.body.appendChild(div);\n",
              "      div.appendChild(video);\n",
              "      video.srcObject = stream;\n",
              "      await video.play();\n",
              "\n",
              "      // Resize the output to fit the video element.\n",
              "      google.colab.output.setIframeHeight(document.documentElement.scrollHeight, true);\n",
              "\n",
              "      // Wait for Capture to be clicked.\n",
              "      await new Promise((resolve) => capture.onclick = resolve);\n",
              "\n",
              "      const canvas = document.createElement('canvas');\n",
              "      canvas.width = video.videoWidth;\n",
              "      canvas.height = video.videoHeight;\n",
              "      canvas.getContext('2d').drawImage(video, 0, 0);\n",
              "      stream.getVideoTracks()[0].stop();\n",
              "      div.remove();\n",
              "      return canvas.toDataURL('image/jpeg', quality);\n",
              "    }\n",
              "    "
            ],
            "text/plain": [
              "<IPython.core.display.Javascript object>"
            ]
          },
          "metadata": {}
        },
        {
          "output_type": "execute_result",
          "data": {
            "application/vnd.google.colaboratory.intrinsic+json": {
              "type": "string"
            },
            "text/plain": [
              "'photo.jpg'"
            ]
          },
          "metadata": {},
          "execution_count": 8
        }
      ]
    },
    {
      "cell_type": "code",
      "metadata": {
        "id": "ZyC_icsqrfQa",
        "colab": {
          "base_uri": "https://localhost:8080/",
          "height": 567
        },
        "outputId": "86accc06-3f35-4700-c2e9-279381293b11"
      },
      "source": [
        "import cv2\n",
        "            \n",
        "def facecrop(image):  \n",
        "    facedata = '/content/haarcascade_frontalface_alt.xml'\n",
        "    cascade = cv2.CascadeClassifier(facedata)\n",
        "\n",
        "    img = cv2.imread(image)\n",
        "\n",
        "    try:\n",
        "    \n",
        "        minisize = (img.shape[1],img.shape[0])\n",
        "        miniframe = cv2.resize(img, minisize)\n",
        "\n",
        "        faces = cascade.detectMultiScale(miniframe)\n",
        "\n",
        "        for f in faces:\n",
        "            x, y, w, h = [ v for v in f ]\n",
        "            cv2.rectangle(img, (x,y), (x+w,y+h), (0,255,0), 2)\n",
        "\n",
        "            sub_face = img[y:y+h, x:x+w]\n",
        "\n",
        "            \n",
        "            cv2.imwrite('capture.jpg', sub_face)\n",
        "            #print (\"Writing: \" + image)\n",
        "\n",
        "    except Exception as e:\n",
        "        print (e)\n",
        "\n",
        "   \n",
        "\n",
        "\n",
        "if __name__ == '__main__':\n",
        "    facecrop('/content/photo.jpg')\n",
        "\n",
        "#Testing a file.\n",
        "\n",
        "from keras.preprocessing import image\n",
        "from keras.preprocessing.image import ImageDataGenerator\n",
        "\n",
        "import numpy as np\n",
        "import matplotlib.pyplot as plt\n",
        "\n",
        "\n",
        "file = '/content/photo.jpg'\n",
        "true_image = image.load_img(file)\n",
        "img = image.load_img(file, color_mode=\"grayscale\", target_size=(48, 48))\n",
        "\n",
        "x = image.img_to_array(img)\n",
        "x = np.expand_dims(x, axis = 0)\n",
        "\n",
        "x /= 255\n",
        "\n",
        "custom = model.predict(x)\n",
        "emotion_analysis(custom[0])\n",
        "\n",
        "x = np.array(x, 'float32')\n",
        "x = x.reshape([48, 48]);\n",
        "\n",
        "\n",
        "plt.imshow(true_image)\n",
        "plt.show()\n"
      ],
      "execution_count": null,
      "outputs": [
        {
          "output_type": "stream",
          "text": [
            "OpenCV(4.1.2) /io/opencv/modules/objdetect/src/cascadedetect.cpp:1689: error: (-215:Assertion failed) !empty() in function 'detectMultiScale'\n",
            "\n"
          ],
          "name": "stdout"
        },
        {
          "output_type": "display_data",
          "data": {
            "image/png": "[encoded data removed]",
            "text/plain": [
              "<Figure size 432x288 with 1 Axes>"
            ]
          },
          "metadata": {
            "needs_background": "light"
          }
        },
        {
          "output_type": "display_data",
          "data": {
            "image/png": "[encoded data removed]",
            "text/plain": [
              "<Figure size 432x288 with 1 Axes>"
            ]
          },
          "metadata": {
            "needs_background": "light"
          }
        }
      ]
    },
    {
      "cell_type": "markdown",
      "metadata": {
        "id": "dF81LYb6PDQz"
      },
      "source": [
        "-----------------------------------------------------------------------------------------------------------------------------------------------------------------------------------------------"
      ]
    },
    {
      "cell_type": "markdown",
      "metadata": {
        "id": "FE5aMd2yPRTJ"
      },
      "source": [
        "--------------------------------------------------------------------------------------------------------------------------------------------------------------------------------------------------------------------"
      ]
    },
    {
      "cell_type": "markdown",
      "metadata": {
        "id": "RqFtYFBtF8DB"
      },
      "source": [
        "#To run Webcam"
      ]
    },
    {
      "cell_type": "code",
      "metadata": {
        "colab": {
          "base_uri": "https://localhost:8080/"
        },
        "id": "OYacH7AVFXSN",
        "outputId": "de1e27a5-8c27-4bc4-ca9f-e8a9de58bbfb"
      },
      "source": [
        "!wget --no-check-certificate \\\n",
        "    https://raw.githubusercontent.com/computationalcore/introduction-to-opencv/master/assets/haarcascade_frontalface_default.xml \\\n",
        "    -O haarcascade_frontalface_default.xml\n",
        "\n",
        "\n",
        "# import dependencies\n",
        "from IPython.display import display, Javascript, Image\n",
        "from google.colab.output import eval_js\n",
        "from base64 import b64decode, b64encode\n",
        "import cv2\n",
        "import numpy as np\n",
        "import PIL\n",
        "import io\n",
        "import html\n",
        "import time\n",
        "\n",
        "\n",
        "# function to convert the JavaScript object into an OpenCV image\n",
        "def js_to_image(js_reply):\n",
        "  \"\"\"\n",
        "  Params:\n",
        "          js_reply: JavaScript object containing image from webcam\n",
        "  Returns:\n",
        "          img: OpenCV BGR image\n",
        "  \"\"\"\n",
        "  # decode base64 image\n",
        "  image_bytes = b64decode(js_reply.split(',')[1])\n",
        "  # convert bytes to numpy array\n",
        "  jpg_as_np = np.frombuffer(image_bytes, dtype=np.uint8)\n",
        "  # decode numpy array into OpenCV BGR image\n",
        "  img = cv2.imdecode(jpg_as_np, flags=1)\n",
        "\n",
        "  return img\n",
        "\n",
        "# function to convert OpenCV Rectangle bounding box image into base64 byte string to be overlayed on video stream\n",
        "def bbox_to_bytes(bbox_array):\n",
        "  \"\"\"\n",
        "  Params:\n",
        "          bbox_array: Numpy array (pixels) containing rectangle to overlay on video stream.\n",
        "  Returns:\n",
        "        bytes: Base64 image byte string\n",
        "  \"\"\"\n",
        "  # convert array into PIL image\n",
        "  bbox_PIL = PIL.Image.fromarray(bbox_array, 'RGBA')\n",
        "  iobuf = io.BytesIO()\n",
        "  # format bbox into png for return\n",
        "  bbox_PIL.save(iobuf, format='png')\n",
        "  # format return string\n",
        "  bbox_bytes = 'data:image/png;base64,{}'.format((str(b64encode(iobuf.getvalue()), 'utf-8')))\n",
        "\n",
        "  return bbox_bytes\n",
        "\n",
        "\n",
        "\n",
        "\n",
        "# initialize the Haar Cascade face detection model\n",
        "face_cascade = cv2.CascadeClassifier(cv2.samples.findFile(cv2.data.haarcascades + 'haarcascade_frontalface_default.xml'))\n",
        "\n",
        "\n",
        "# JavaScript to properly create our live video stream using our webcam as input\n",
        "def video_stream():\n",
        "  js = Javascript('''\n",
        "    var video;\n",
        "    var div = null;\n",
        "    var stream;\n",
        "    var captureCanvas;\n",
        "    var imgElement;\n",
        "    var labelElement;\n",
        "    \n",
        "    var pendingResolve = null;\n",
        "    var shutdown = false;\n",
        "    \n",
        "    function removeDom() {\n",
        "       stream.getVideoTracks()[0].stop();\n",
        "       video.remove();\n",
        "       div.remove();\n",
        "       video = null;\n",
        "       div = null;\n",
        "       stream = null;\n",
        "       imgElement = null;\n",
        "       captureCanvas = null;\n",
        "       labelElement = null;\n",
        "    }\n",
        "    \n",
        "    function onAnimationFrame() {\n",
        "      if (!shutdown) {\n",
        "        window.requestAnimationFrame(onAnimationFrame);\n",
        "      }\n",
        "      if (pendingResolve) {\n",
        "        var result = \"\";\n",
        "        if (!shutdown) {\n",
        "          captureCanvas.getContext('2d').drawImage(video, 0, 0, 640, 480);\n",
        "          result = captureCanvas.toDataURL('image/jpeg', 0.8)\n",
        "        }\n",
        "        var lp = pendingResolve;\n",
        "        pendingResolve = null;\n",
        "        lp(result);\n",
        "      }\n",
        "    }\n",
        "    \n",
        "    async function createDom() {\n",
        "      if (div !== null) {\n",
        "        return stream;\n",
        "      }\n",
        "\n",
        "      div = document.createElement('div');\n",
        "      div.style.border = '2px solid black';\n",
        "      div.style.padding = '3px';\n",
        "      div.style.width = '100%';\n",
        "      div.style.maxWidth = '600px';\n",
        "      document.body.appendChild(div);\n",
        "      \n",
        "      const modelOut = document.createElement('div');\n",
        "      modelOut.innerHTML = \"<span>Status:</span>\";\n",
        "      labelElement = document.createElement('span');\n",
        "      labelElement.innerText = 'No data';\n",
        "      labelElement.style.fontWeight = 'bold';\n",
        "      modelOut.appendChild(labelElement);\n",
        "      div.appendChild(modelOut);\n",
        "           \n",
        "      video = document.createElement('video');\n",
        "      video.style.display = 'block';\n",
        "      video.width = div.clientWidth - 6;\n",
        "      video.setAttribute('playsinline', '');\n",
        "      video.onclick = () => { shutdown = true; };\n",
        "      stream = await navigator.mediaDevices.getUserMedia(\n",
        "          {video: { facingMode: \"environment\"}});\n",
        "      div.appendChild(video);\n",
        "\n",
        "      imgElement = document.createElement('img');\n",
        "      imgElement.style.position = 'absolute';\n",
        "      imgElement.style.zIndex = 1;\n",
        "      imgElement.onclick = () => { shutdown = true; };\n",
        "      div.appendChild(imgElement);\n",
        "      \n",
        "      const instruction = document.createElement('div');\n",
        "      instruction.innerHTML = \n",
        "          '<span style=\"color: red; font-weight: bold;\">' +\n",
        "          'When finished, click here or on the video to stop this demo</span>';\n",
        "      div.appendChild(instruction);\n",
        "      instruction.onclick = () => { shutdown = true; };\n",
        "      \n",
        "      video.srcObject = stream;\n",
        "      await video.play();\n",
        "\n",
        "      captureCanvas = document.createElement('canvas');\n",
        "      captureCanvas.width = 640; //video.videoWidth;\n",
        "      captureCanvas.height = 480; //video.videoHeight;\n",
        "      window.requestAnimationFrame(onAnimationFrame);\n",
        "      \n",
        "      return stream;\n",
        "    }\n",
        "    async function stream_frame(label, imgData) {\n",
        "      if (shutdown) {\n",
        "        removeDom();\n",
        "        shutdown = false;\n",
        "        return '';\n",
        "      }\n",
        "\n",
        "      var preCreate = Date.now();\n",
        "      stream = await createDom();\n",
        "      \n",
        "      var preShow = Date.now();\n",
        "      if (label != \"\") {\n",
        "        labelElement.innerHTML = label;\n",
        "      }\n",
        "            \n",
        "      if (imgData != \"\") {\n",
        "        var videoRect = video.getClientRects()[0];\n",
        "        imgElement.style.top = videoRect.top + \"px\";\n",
        "        imgElement.style.left = videoRect.left + \"px\";\n",
        "        imgElement.style.width = videoRect.width + \"px\";\n",
        "        imgElement.style.height = videoRect.height + \"px\";\n",
        "        imgElement.src = imgData;\n",
        "      }\n",
        "      \n",
        "      var preCapture = Date.now();\n",
        "      var result = await new Promise(function(resolve, reject) {\n",
        "        pendingResolve = resolve;\n",
        "      });\n",
        "      shutdown = false;\n",
        "      \n",
        "      return {'create': preShow - preCreate, \n",
        "              'show': preCapture - preShow, \n",
        "              'capture': Date.now() - preCapture,\n",
        "              'img': result};\n",
        "    }\n",
        "    ''')\n",
        "\n",
        "  display(js)\n",
        "  \n",
        "def video_frame(label, bbox):\n",
        "  data = eval_js('stream_frame(\"{}\", \"{}\")'.format(label, bbox))\n",
        "  return data"
      ],
      "execution_count": 7,
      "outputs": [
        {
          "output_type": "stream",
          "text": [
            "--2021-08-30 10:35:59--  https://raw.githubusercontent.com/computationalcore/introduction-to-opencv/master/assets/haarcascade_frontalface_default.xml\n",
            "Resolving raw.githubusercontent.com (raw.githubusercontent.com)... 185.199.108.133, 185.199.109.133, 185.199.110.133, ...\n",
            "Connecting to raw.githubusercontent.com (raw.githubusercontent.com)|185.199.108.133|:443... connected.\n",
            "HTTP request sent, awaiting response... 200 OK\n",
            "Length: 930127 (908K) [text/plain]\n",
            "Saving to: ‘haarcascade_frontalface_default.xml’\n",
            "\n",
            "\r          haarcasca   0%[                    ]       0  --.-KB/s               \rhaarcascade_frontal 100%[===================>] 908.33K  --.-KB/s    in 0.008s  \n",
            "\n",
            "2021-08-30 10:35:59 (109 MB/s) - ‘haarcascade_frontalface_default.xml’ saved [930127/930127]\n",
            "\n"
          ],
          "name": "stdout"
        }
      ]
    },
    {
      "cell_type": "code",
      "metadata": {
        "id": "HSm46C41WvCm"
      },
      "source": [
        "colour_cycle = ((255, 0, 0), (0, 255, 0), (0, 0, 255), (230, 230, 250))"
      ],
      "execution_count": 8,
      "outputs": []
    },
    {
      "cell_type": "code",
      "metadata": {
        "id": "Y-DKGn1EakgX"
      },
      "source": [
        "from keras.models import model_from_json\n",
        "import numpy as np\n",
        "import cv2\n",
        "\n",
        "def load_model(path):\n",
        "\n",
        "\tjson_file = open(path + 'model.json', 'r')\n",
        "\tloaded_model_json = json_file.read()\n",
        "\tjson_file.close()\n",
        "\t\n",
        "\tmodel = model_from_json(loaded_model_json)\n",
        "\tmodel.load_weights(path + \"model.h5\")\n",
        "\tprint(\"Loaded model from disk\")\n",
        "\treturn model\n",
        "\t\n",
        "def predict_emotion(gray, x, y, w, h):\n",
        "\tface = np.expand_dims(np.expand_dims(np.resize(gray[y:y+w, x:x+h]/255.0, (48, 48)),-1), 0)\n",
        "\tprediction = model.predict([face])\n",
        "\n",
        "\treturn(int(np.argmax(prediction)), round(max(prediction[0])*100, 2))"
      ],
      "execution_count": 9,
      "outputs": []
    },
    {
      "cell_type": "code",
      "metadata": {
        "colab": {
          "base_uri": "https://localhost:8080/"
        },
        "id": "0vsAq8HCh8lx",
        "outputId": "fd37b9cd-81e8-4a9d-fc3a-46c7899b035f"
      },
      "source": [
        "path = \"/content/drive/MyDrive/Capstone Project 5/\"\n",
        "model = load_model(path)\n",
        "\n",
        "fcc_path = \"Tools/haarcascade_frontalface_alt.xml\"\n",
        "faceCascade = cv2.CascadeClassifier(fcc_path)\n",
        "emotion_dict = {0: \"Angry\", 1: \"Disgust\", 2: \"Fear\", 3: \"Happy\", 4: \"Sad\", 5: \"Surprise\", 6: \"Neutral\"}\n",
        "colour_cycle = ((255, 0, 0), (0, 255, 0), (0, 0, 255), (230, 230, 250))\n",
        "# # webcam = cv2.VideoCapture(0)"
      ],
      "execution_count": 10,
      "outputs": [
        {
          "output_type": "stream",
          "text": [
            "Loaded model from disk\n"
          ],
          "name": "stdout"
        }
      ]
    },
    {
      "cell_type": "code",
      "metadata": {
        "id": "Q2BxxnYHFX7n",
        "colab": {
          "base_uri": "https://localhost:8080/",
          "height": 17
        },
        "outputId": "d6008b6a-2413-49c3-ee87-f1ac163bc525"
      },
      "source": [
        "from google.colab.patches import cv2_imshow\n",
        "from IPython.display import clear_output\n",
        "\n",
        "# start streaming video from webcam\n",
        "video_stream()\n",
        "# label for video\n",
        "label_html = 'Capturing...'\n",
        "# initialze bounding box to empty\n",
        "bbox = ''\n",
        "count = 0 \n",
        "counter = 1\n",
        "res=(360,240) #resulotion\n",
        "fourcc = cv2.VideoWriter_fourcc(*'MP4V') #codec\n",
        "out = cv2.VideoWriter('video.mp4', fourcc, 20.0, res)\n",
        "while True:\n",
        "    js_reply = video_frame(label_html, bbox)\n",
        "    if not js_reply:\n",
        "        break\n",
        "\n",
        "    # convert JS response to OpenCV Image\n",
        "    img = js_to_image(js_reply[\"img\"])\n",
        "\n",
        "    # create transparent overlay for bounding box\n",
        "    bbox_array = np.zeros([480,640,4], dtype=np.uint8)\n",
        "\n",
        "    # grayscale image for face detection\n",
        "    gray = cv2.cvtColor(img, cv2.COLOR_RGB2GRAY)\n",
        "\n",
        "    # get face region coordinates\n",
        "    faces = face_cascade.detectMultiScale(gray,scaleFactor=1.1,minNeighbors=5,minSize=(30, 30))\n",
        "    # # get face bounding box for overlay\n",
        "    # for (x,y,w,h) in faces:\n",
        "    #   bbox_array = cv2.rectangle(bbox_array,(x,y),(x+w,y+h),(255,0,0),2)\n",
        "\n",
        "    # bbox_array[:,:,3] = (bbox_array.max(axis = 2) > 0 ).astype(int) * 255\n",
        "    # # convert overlay of bbox into bytes\n",
        "    # bbox_bytes = bbox_to_bytes(bbox_array)\n",
        "    # # update bbox so next frame gets new overlay\n",
        "    # bbox = bbox_bytes\n",
        "\n",
        "    for (count,(x, y, w, h)) in enumerate(faces):\n",
        "      colour = colour_cycle[int(count%len(colour_cycle))]\n",
        "      bbox_array = cv2.rectangle(bbox_array, (x, y), (x+w, y+h), colour, 2)\n",
        "      bbox_array = cv2.line(bbox_array, (x+5, y+h+5),(x+100, y+h+5), colour, 20)\n",
        "      bbox_array = cv2.putText(bbox_array, \"Face #\"+str(count+1), (x+5, y+h+11), cv2.FONT_HERSHEY_SIMPLEX, 0.5, (255, 255, 255), lineType=cv2.LINE_AA)\n",
        "      bbox_array = cv2.line(bbox_array, (x+8, y),(x+150, y), colour, 20)\n",
        "      emotion_id, confidence = predict_emotion(gray, x, y, w, h)\n",
        "      emotion = emotion_dict[emotion_id]\n",
        "      bbox_array = cv2.putText(bbox_array, emotion + \": \" + str(confidence) + \"%\" , (x+20, y+5), cv2.FONT_HERSHEY_SIMPLEX, 0.5, (255, 255, 255), lineType=cv2.LINE_AA)\n",
        "      # out.write(img)\n",
        "      bbox_array[:,:,3] = (bbox_array.max(axis = 2) > 0 ).astype(int) * 255\n",
        "     # convert overlay of bbox into bytes\n",
        "      bbox_bytes = bbox_to_bytes(bbox_array)\n",
        "    # update bbox so next frame gets new overlay\n",
        "      bbox = bbox_bytes\n",
        "      \n",
        "      # cv2_imshow(img)\n",
        "      # print(\"Frame number: \" + str(counter))\n",
        "      # counter = counter+1\n",
        "      \n",
        "    if cv2.waitKey(1) & 0xFF == ord('q'):\n",
        "      break;\n",
        "out.release()\n",
        "# webcam.release()\n",
        "cv2.destroyAllWindows()\n",
        "\n",
        "    "
      ],
      "execution_count": 11,
      "outputs": [
        {
          "output_type": "display_data",
          "data": {
            "application/javascript": [
              "\n",
              "    var video;\n",
              "    var div = null;\n",
              "    var stream;\n",
              "    var captureCanvas;\n",
              "    var imgElement;\n",
              "    var labelElement;\n",
              "    \n",
              "    var pendingResolve = null;\n",
              "    var shutdown = false;\n",
              "    \n",
              "    function removeDom() {\n",
              "       stream.getVideoTracks()[0].stop();\n",
              "       video.remove();\n",
              "       div.remove();\n",
              "       video = null;\n",
              "       div = null;\n",
              "       stream = null;\n",
              "       imgElement = null;\n",
              "       captureCanvas = null;\n",
              "       labelElement = null;\n",
              "    }\n",
              "    \n",
              "    function onAnimationFrame() {\n",
              "      if (!shutdown) {\n",
              "        window.requestAnimationFrame(onAnimationFrame);\n",
              "      }\n",
              "      if (pendingResolve) {\n",
              "        var result = \"\";\n",
              "        if (!shutdown) {\n",
              "          captureCanvas.getContext('2d').drawImage(video, 0, 0, 640, 480);\n",
              "          result = captureCanvas.toDataURL('image/jpeg', 0.8)\n",
              "        }\n",
              "        var lp = pendingResolve;\n",
              "        pendingResolve = null;\n",
              "        lp(result);\n",
              "      }\n",
              "    }\n",
              "    \n",
              "    async function createDom() {\n",
              "      if (div !== null) {\n",
              "        return stream;\n",
              "      }\n",
              "\n",
              "      div = document.createElement('div');\n",
              "      div.style.border = '2px solid black';\n",
              "      div.style.padding = '3px';\n",
              "      div.style.width = '100%';\n",
              "      div.style.maxWidth = '600px';\n",
              "      document.body.appendChild(div);\n",
              "      \n",
              "      const modelOut = document.createElement('div');\n",
              "      modelOut.innerHTML = \"<span>Status:</span>\";\n",
              "      labelElement = document.createElement('span');\n",
              "      labelElement.innerText = 'No data';\n",
              "      labelElement.style.fontWeight = 'bold';\n",
              "      modelOut.appendChild(labelElement);\n",
              "      div.appendChild(modelOut);\n",
              "           \n",
              "      video = document.createElement('video');\n",
              "      video.style.display = 'block';\n",
              "      video.width = div.clientWidth - 6;\n",
              "      video.setAttribute('playsinline', '');\n",
              "      video.onclick = () => { shutdown = true; };\n",
              "      stream = await navigator.mediaDevices.getUserMedia(\n",
              "          {video: { facingMode: \"environment\"}});\n",
              "      div.appendChild(video);\n",
              "\n",
              "      imgElement = document.createElement('img');\n",
              "      imgElement.style.position = 'absolute';\n",
              "      imgElement.style.zIndex = 1;\n",
              "      imgElement.onclick = () => { shutdown = true; };\n",
              "      div.appendChild(imgElement);\n",
              "      \n",
              "      const instruction = document.createElement('div');\n",
              "      instruction.innerHTML = \n",
              "          '<span style=\"color: red; font-weight: bold;\">' +\n",
              "          'When finished, click here or on the video to stop this demo</span>';\n",
              "      div.appendChild(instruction);\n",
              "      instruction.onclick = () => { shutdown = true; };\n",
              "      \n",
              "      video.srcObject = stream;\n",
              "      await video.play();\n",
              "\n",
              "      captureCanvas = document.createElement('canvas');\n",
              "      captureCanvas.width = 640; //video.videoWidth;\n",
              "      captureCanvas.height = 480; //video.videoHeight;\n",
              "      window.requestAnimationFrame(onAnimationFrame);\n",
              "      \n",
              "      return stream;\n",
              "    }\n",
              "    async function stream_frame(label, imgData) {\n",
              "      if (shutdown) {\n",
              "        removeDom();\n",
              "        shutdown = false;\n",
              "        return '';\n",
              "      }\n",
              "\n",
              "      var preCreate = Date.now();\n",
              "      stream = await createDom();\n",
              "      \n",
              "      var preShow = Date.now();\n",
              "      if (label != \"\") {\n",
              "        labelElement.innerHTML = label;\n",
              "      }\n",
              "            \n",
              "      if (imgData != \"\") {\n",
              "        var videoRect = video.getClientRects()[0];\n",
              "        imgElement.style.top = videoRect.top + \"px\";\n",
              "        imgElement.style.left = videoRect.left + \"px\";\n",
              "        imgElement.style.width = videoRect.width + \"px\";\n",
              "        imgElement.style.height = videoRect.height + \"px\";\n",
              "        imgElement.src = imgData;\n",
              "      }\n",
              "      \n",
              "      var preCapture = Date.now();\n",
              "      var result = await new Promise(function(resolve, reject) {\n",
              "        pendingResolve = resolve;\n",
              "      });\n",
              "      shutdown = false;\n",
              "      \n",
              "      return {'create': preShow - preCreate, \n",
              "              'show': preCapture - preShow, \n",
              "              'capture': Date.now() - preCapture,\n",
              "              'img': result};\n",
              "    }\n",
              "    "
            ],
            "text/plain": [
              "<IPython.core.display.Javascript object>"
            ]
          },
          "metadata": {}
        }
      ]
    },
    {
      "cell_type": "code",
      "metadata": {
        "id": "BsDpP87QGTYe"
      },
      "source": [
        "# from keras.models import model_from_json\n",
        "# import numpy as np\n",
        "# import cv2\n",
        "\n",
        "# def load_model(path):\n",
        "\n",
        "# \tjson_file = open(path + 'model.json', 'r')\n",
        "# \tloaded_model_json = json_file.read()\n",
        "# \tjson_file.close()\n",
        "\t\n",
        "# \tmodel = model_from_json(loaded_model_json)\n",
        "# \tmodel.load_weights(path + \"model.h5\")\n",
        "# \tprint(\"Loaded model from disk\")\n",
        "# \treturn model\n",
        "\t\n",
        "# def predict_emotion(gray, x, y, w, h):\n",
        "# \tface = np.expand_dims(np.expand_dims(np.resize(gray[y:y+w, x:x+h]/255.0, (48, 48)),-1), 0)\n",
        "# \tprediction = model.predict([face])\n",
        "\n",
        "# \treturn(int(np.argmax(prediction)), round(max(prediction[0])*100, 2))"
      ],
      "execution_count": null,
      "outputs": []
    },
    {
      "cell_type": "code",
      "metadata": {
        "id": "y9Wqe4hUGULL"
      },
      "source": [
        "# path = \"/content/drive/MyDrive/Capstone Project 5/\"\n",
        "# model = load_model(path)\n",
        "\n",
        "# fcc_path = \"Tools/haarcascade_frontalface_alt.xml\"\n",
        "# faceCascade = cv2.CascadeClassifier(fcc_path)\n",
        "# emotion_dict = {0: \"Angry\", 1: \"Disgust\", 2: \"Fear\", 3: \"Happy\", 4: \"Sad\", 5: \"Surprise\", 6: \"Neutral\"}\n",
        "# colour_cycle = ((255, 0, 0), (0, 255, 0), (0, 0, 255), (230, 230, 250))\n",
        "# # webcam = cv2.VideoCapture(0)"
      ],
      "execution_count": null,
      "outputs": []
    },
    {
      "cell_type": "code",
      "metadata": {
        "id": "qahj1wivTp6O"
      },
      "source": [
        "#   bbox_array[:,:,3] = (bbox_array.max(axis = 2) > 0 ).astype(int) * 255\n",
        "    # # convert overlay of bbox into bytes\n",
        "    # bbox_bytes = bbox_to_bytes(bbox_array)\n",
        "    # # update bbox so next frame gets new overlay\n",
        "    # bbox = bbox_bytes\n",
        "\n",
        "    # # predictions = model.predict(img)\n",
        "    # # font_scale = 1.5\n",
        "    # font = cv2.FONT_HERSHEY_PLAIN\n",
        "\n",
        "    # if (np.argmax(predictions)==0):\n",
        "    #   status = 'Angry'\n",
        "\n",
        "    #   x1,y1,w1,h1 = 0,0,175,175\n",
        "    #   cv2.rectangle(frame,(x1,x1),(x1+w1,y1+h1),(0,0,0),-1)\n",
        "    #   cv2.putText(frame,status,(x1+int(w1/10),y1+int(h1/2)), cv2.FONT_HERSHEY_SIMPLEX,0.7,(0,0,255),4)\n",
        "    #   cv2.rectangle(frame,(x,y),(x+w,y+h),(0,0,255))\n",
        "    # elif (np.argmax(predictions)==1):\n",
        "    #   status = 'Disgust'\n",
        "\n",
        "    #   x1,y1,w1,h1 = 0,0,175,175\n",
        "    #   cv2.rectangle(frame,(x1,x1),(x1+w1,y1+h1),(0,0,0),-1)\n",
        "    #   cv2.putText(frame,status,(x1+int(w1/10),y1+int(h1/2)), cv2.FONT_HERSHEY_SIMPLEX,0.7,(0,0,255),4)\n",
        "    #   cv2.rectangle(frame,(x,y),(x+w,y+h),(0,0,255))\n",
        "\n",
        "    # elif (np.argmax(predictions)==2):\n",
        "    #   status = 'Fear'\n",
        "\n",
        "    #   x1,y1,w1,h1 = 0,0,175,175\n",
        "    #   cv2.rectangle(frame,(x1,x1),(x1+w1,y1+h1),(0,0,0),-1)\n",
        "    #   cv2.putText(frame,status,(x1+int(w1/10),y1+int(h1/2)), cv2.FONT_HERSHEY_SIMPLEX,0.7,(0,0,255),4)\n",
        "    #   cv2.rectangle(frame,(x,y),(x+w,y+h),(0,0,255))\n",
        "  \n",
        "    # elif (np.argmax(predictions)==3):\n",
        "    #   status = 'Happy'\n",
        "\n",
        "    #   x1,y1,w1,h1 = 0,0,175,175\n",
        "    #   cv2.rectangle(frame,(x1,x1),(x1+w1,y1+h1),(0,0,0),-1)\n",
        "    #   cv2.putText(frame,status,(x1+int(w1/10),y1+int(h1/2)), cv2.FONT_HERSHEY_SIMPLEX,0.7,(0,0,255),4)\n",
        "    #   cv2.rectangle(frame,(x,y),(x+w,y+h),(0,0,255))\n",
        "\n",
        "    # elif (np.argmax(predictions)==4):\n",
        "    #   status = 'Sad'\n",
        "\n",
        "    #   x1,y1,w1,h1 = 0,0,175,175\n",
        "    #   cv2.rectangle(frame,(x1,x1),(x1+w1,y1+h1),(0,0,0),-1)\n",
        "    #   cv2.putText(frame,status,(x1+int(w1/10),y1+int(h1/2)), cv2.FONT_HERSHEY_SIMPLEX,0.7,(0,0,255),4)\n",
        "    #   cv2.rectangle(frame,(x,y),(x+w,y+h),(0,0,255))\n",
        " \n",
        "    # elif (np.argmax(predictions)==5):\n",
        "    #   status = 'Surprise'\n",
        "\n",
        "    #   x1,y1,w1,h1 = 0,0,175,175\n",
        "    #   cv2.rectangle(frame,(x1,x1),(x1+w1,y1+h1),(0,0,0),-1)\n",
        "    #   cv2.putText(frame,status,(x1+int(w1/10),y1+int(h1/2)), cv2.FONT_HERSHEY_SIMPLEX,0.7,(0,0,255),4)\n",
        "    #   cv2.rectangle(frame,(x,y),(x+w,y+h),(0,0,255))\n",
        "\n",
        "    # else:\n",
        "    #   status = 'Neutral'\n",
        "\n",
        "    #   x1,y1,w1,h1 = 0,0,175,175\n",
        "    #   cv2.rectangle(frame,(x1,x1),(x1+w1,y1+h1),(0,0,0),-1)\n",
        "    #   cv2.putText(frame,status,(x1+int(w1/10),y1+int(h1/2)), cv2.FONT_HERSHEY_SIMPLEX,0.7,(0,0,255),4)\n",
        "    #   cv2.rectangle(frame,(x,y),(x+w,y+h),(0,0,255))\n",
        "\n"
      ],
      "execution_count": null,
      "outputs": []
    }
  ]
}